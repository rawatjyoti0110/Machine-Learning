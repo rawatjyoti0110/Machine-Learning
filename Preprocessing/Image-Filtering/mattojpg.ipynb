{
 "cells": [
  {
   "cell_type": "code",
   "execution_count": 1,
   "metadata": {},
   "outputs": [],
   "source": [
    "import numpy as np\n",
    "import scipy.io\n",
    "import scipy.misc"
   ]
  },
  {
   "cell_type": "code",
   "execution_count": 2,
   "metadata": {},
   "outputs": [
    {
     "name": "stdout",
     "output_type": "stream",
     "text": [
      "(32, 32, 3, 73257)\n"
     ]
    }
   ],
   "source": [
    "train_data = scipy.io.loadmat(\"train_32x32.mat\")\n",
    "train_x = train_data['X']\n",
    "train_y = train_data['y']\n",
    "train_y[train_y == 10] = 0\n",
    "train_y = [flatten for inner in train_y for flatten in inner]\n",
    "print (train_x.shape)"
   ]
  },
  {
   "cell_type": "code",
   "execution_count": 3,
   "metadata": {},
   "outputs": [
    {
     "data": {
      "text/plain": [
       "array([0, 1, 2, 3, 4, 5, 6, 7, 8, 9], dtype=uint8)"
      ]
     },
     "execution_count": 3,
     "metadata": {},
     "output_type": "execute_result"
    }
   ],
   "source": [
    "np.unique(train_y)"
   ]
  },
  {
   "cell_type": "code",
   "execution_count": 4,
   "metadata": {},
   "outputs": [
    {
     "name": "stdout",
     "output_type": "stream",
     "text": [
      "(32, 32, 3, 26032)\n"
     ]
    }
   ],
   "source": [
    "test_data = scipy.io.loadmat(\"test_32x32.mat\")\n",
    "test_x = test_data['X']\n",
    "test_y = test_data['y']\n",
    "test_y[test_y == 10] = 0\n",
    "test_y = [flatten for inner in test_y for flatten in inner]\n",
    "print (test_x.shape)"
   ]
  },
  {
   "cell_type": "code",
   "execution_count": 5,
   "metadata": {},
   "outputs": [
    {
     "data": {
      "text/plain": [
       "array([0, 1, 2, 3, 4, 5, 6, 7, 8, 9], dtype=uint8)"
      ]
     },
     "execution_count": 5,
     "metadata": {},
     "output_type": "execute_result"
    }
   ],
   "source": [
    "np.unique(test_y)"
   ]
  },
  {
   "cell_type": "code",
   "execution_count": 7,
   "metadata": {},
   "outputs": [
    {
     "name": "stderr",
     "output_type": "stream",
     "text": [
      "c:\\python35\\lib\\site-packages\\ipykernel_launcher.py:5: DeprecationWarning: `imsave` is deprecated!\n",
      "`imsave` is deprecated in SciPy 1.0.0, and will be removed in 1.2.0.\n",
      "Use ``imageio.imwrite`` instead.\n",
      "  \"\"\"\n"
     ]
    }
   ],
   "source": [
    "#before running this code make sure you have a empty folder train_img created in the same folder as this ipython notebook \n",
    "f = open('train_data.txt', 'w')\n",
    "for i in range(train_x.shape[3]):\n",
    "    img_name = \"train_img/train%08d.jpg\" % i\n",
    "    scipy.misc.imsave(img_name, train_x[:,:,:,i])\n",
    "    f.write(img_name + \"\\t\" + str(train_y[i]) + \"\\n\")\n",
    " \n",
    "f.close()"
   ]
  },
  {
   "cell_type": "code",
   "execution_count": 9,
   "metadata": {},
   "outputs": [
    {
     "name": "stderr",
     "output_type": "stream",
     "text": [
      "c:\\python35\\lib\\site-packages\\ipykernel_launcher.py:5: DeprecationWarning: `imsave` is deprecated!\n",
      "`imsave` is deprecated in SciPy 1.0.0, and will be removed in 1.2.0.\n",
      "Use ``imageio.imwrite`` instead.\n",
      "  \"\"\"\n"
     ]
    }
   ],
   "source": [
    "#before running this code make sure you have a empty folder test_img created in the same folder as this ipython notebook \n",
    "f = open('test_data.txt', 'w')\n",
    "for i in range(test_x.shape[3]):\n",
    "    img_name = \"test_img/test%08d.jpg\" % i\n",
    "    scipy.misc.imsave(img_name, test_x[:,:,:,i])\n",
    "    f.write(img_name + \"\\t\" + str(test_y[i]) + \"\\n\")\n",
    " \n",
    "f.close()"
   ]
  },
  {
   "cell_type": "code",
   "execution_count": null,
   "metadata": {},
   "outputs": [],
   "source": []
  }
 ],
 "metadata": {
  "kernelspec": {
   "display_name": "Python 3",
   "language": "python",
   "name": "python3"
  },
  "language_info": {
   "codemirror_mode": {
    "name": "ipython",
    "version": 3
   },
   "file_extension": ".py",
   "mimetype": "text/x-python",
   "name": "python",
   "nbconvert_exporter": "python",
   "pygments_lexer": "ipython3",
   "version": "3.5.3"
  }
 },
 "nbformat": 4,
 "nbformat_minor": 2
}
