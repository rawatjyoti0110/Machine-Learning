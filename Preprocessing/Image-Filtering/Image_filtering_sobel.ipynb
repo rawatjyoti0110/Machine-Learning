{
 "cells": [
  {
   "cell_type": "code",
   "execution_count": 1,
   "metadata": {},
   "outputs": [],
   "source": [
    "from numpy import array\n",
    "from numpy import argmax\n",
    "from sklearn.preprocessing import LabelEncoder\n",
    "from sklearn.preprocessing import OneHotEncoder\n",
    "import cv2\n",
    "import matplotlib.pyplot as plt\n",
    "import random\n",
    "from sklearn.model_selection import train_test_split\n",
    "import numpy as np\n",
    "\n",
    "from sklearn.cluster import KMeans,MiniBatchKMeans\n",
    "from sklearn.svm import SVC\n",
    "\n",
    "%matplotlib inline"
   ]
  },
  {
   "cell_type": "code",
   "execution_count": 2,
   "metadata": {},
   "outputs": [],
   "source": [
    "digits = np.array([0,1,2,3,4,5,6,7,8,9])\n",
    "onehot_encoder = OneHotEncoder(sparse=False)\n",
    "int_encoded = digits.reshape(-1,1)\n",
    "onehot_encoded = onehot_encoder.fit_transform(int_encoded) #(10,10) matrix, as taught by Andrew about Dummy Variables"
   ]
  },
  {
   "cell_type": "code",
   "execution_count": 3,
   "metadata": {},
   "outputs": [
    {
     "data": {
      "text/plain": [
       "array([0., 0., 1., 0., 0., 0., 0., 0., 0., 0.])"
      ]
     },
     "execution_count": 3,
     "metadata": {},
     "output_type": "execute_result"
    }
   ],
   "source": [
    "onehot_encoded[2]"
   ]
  },
  {
   "cell_type": "code",
   "execution_count": 4,
   "metadata": {},
   "outputs": [],
   "source": [
    "#creating a list of train dataset tuple(image, image tag)\n",
    "train_dict = []\n",
    "with open('train_data.txt', 'r') as f:\n",
    "    for line in f:\n",
    "        x, y = line.split()\n",
    "        y = int (y)\n",
    "        t=(x,y)\n",
    "        train_dict.append(t)"
   ]
  },
  {
   "cell_type": "code",
   "execution_count": 5,
   "metadata": {},
   "outputs": [],
   "source": [
    "#creating a list of test dataset tuple(image, image tag)\n",
    "test_dict = []\n",
    "with open('test_data.txt', 'r') as f:\n",
    "    for line in f:\n",
    "        x, y = line.split()\n",
    "        y = int (y)\n",
    "        t=(x,y)\n",
    "        test_dict.append(t)"
   ]
  },
  {
   "cell_type": "code",
   "execution_count": 6,
   "metadata": {},
   "outputs": [],
   "source": [
    "# Defining a function to load dataset\n",
    "def load_images_dataset(data_dict,onehot_encoded,digits):\n",
    "    dataset = {}\n",
    "    X=[]\n",
    "    Y=[]\n",
    "    for aTuple in data_dict:\n",
    "        x = cv2.imread(aTuple[0]) \n",
    "        if aTuple[1] in digits :\n",
    "            y = onehot_encoded[aTuple[1]] # get correct onehot encoded value\n",
    "            X.append(x)\n",
    "            Y.append(y)# ex : [image_array, digit]\n",
    "    dataset = {'X': X ,'Y':Y}\n",
    "    return dataset"
   ]
  },
  {
   "cell_type": "code",
   "execution_count": 7,
   "metadata": {},
   "outputs": [],
   "source": [
    "train = load_images_dataset(train_dict,onehot_encoded,digits)"
   ]
  },
  {
   "cell_type": "code",
   "execution_count": 8,
   "metadata": {},
   "outputs": [],
   "source": [
    "train_x=train['X']\n",
    "train_y=train['Y']"
   ]
  },
  {
   "cell_type": "code",
   "execution_count": 9,
   "metadata": {},
   "outputs": [],
   "source": [
    "##convert the image to gray scale\n",
    "filtered_train=[]\n",
    "#gray_train=[]\n",
    "scale = 1\n",
    "delta = 0\n",
    "ddepth = cv2.CV_16S\n",
    "for i in range(0 , len(train_x)):\n",
    "    gray = cv2.cvtColor(train_x[i],cv2.COLOR_BGR2GRAY)\n",
    "    grad_x = cv2.Sobel(gray,ddepth,1,0,ksize = 3, scale = scale, delta = delta,borderType = cv2.BORDER_DEFAULT)\n",
    "    grad_y = cv2.Sobel(gray,ddepth,0,1,ksize = 3, scale = scale, delta = delta, borderType = cv2.BORDER_DEFAULT)\n",
    "    abs_grad_x = cv2.convertScaleAbs(grad_x)   # converting back to uint8\n",
    "    abs_grad_y = cv2.convertScaleAbs(grad_y)\n",
    "    dst = cv2.addWeighted(abs_grad_x,0.5,abs_grad_y,0.5,0)\n",
    "    filtered_train.append(dst)"
   ]
  },
  {
   "cell_type": "code",
   "execution_count": 10,
   "metadata": {},
   "outputs": [
    {
     "data": {
      "text/plain": [
       "73257"
      ]
     },
     "execution_count": 10,
     "metadata": {},
     "output_type": "execute_result"
    }
   ],
   "source": [
    "len(filtered_train)"
   ]
  },
  {
   "cell_type": "code",
   "execution_count": 12,
   "metadata": {},
   "outputs": [
    {
     "data": {
      "text/plain": [
       "<matplotlib.image.AxesImage at 0xb75be61128>"
      ]
     },
     "execution_count": 12,
     "metadata": {},
     "output_type": "execute_result"
    },
    {
     "data": {
      "image/png": "[encoded data removed]",
      "text/plain": [
       "<matplotlib.figure.Figure at 0xb74505c240>"
      ]
     },
     "metadata": {},
     "output_type": "display_data"
    }
   ],
   "source": [
    "plt.imshow(filtered_train[6])"
   ]
  },
  {
   "cell_type": "code",
   "execution_count": null,
   "metadata": {},
   "outputs": [],
   "source": []
  },
  {
   "cell_type": "code",
   "execution_count": null,
   "metadata": {},
   "outputs": [],
   "source": []
  }
 ],
 "metadata": {
  "kernelspec": {
   "display_name": "Python 3",
   "language": "python",
   "name": "python3"
  },
  "language_info": {
   "codemirror_mode": {
    "name": "ipython",
    "version": 3
   },
   "file_extension": ".py",
   "mimetype": "text/x-python",
   "name": "python",
   "nbconvert_exporter": "python",
   "pygments_lexer": "ipython3",
   "version": "3.5.3"
  }
 },
 "nbformat": 4,
 "nbformat_minor": 2
}
